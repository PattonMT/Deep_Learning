{
 "cells": [
  {
   "cell_type": "markdown",
   "metadata": {},
   "source": [
    "[教程](https://space.bilibili.com/49109393/channel/detail?cid=36482)\n",
    "# 导入数据\n",
    "* 测试集\n",
    "* 数据集"
   ]
  },
  {
   "cell_type": "code",
   "execution_count": null,
   "metadata": {},
   "outputs": [],
   "source": [
    "import h5py"
   ]
  },
  {
   "cell_type": "code",
   "execution_count": 2,
   "metadata": {},
   "outputs": [],
   "source": [
    "train_data = h5py.File('E:/Dowonload/datasets/train_catvnoncat.h5','r')\n",
    "test_data = h5py.File('E:/Dowonload/datasets/test_catvnoncat.h5','r')"
   ]
  },
  {
   "cell_type": "code",
   "execution_count": 3,
   "metadata": {},
   "outputs": [
    {
     "name": "stdout",
     "output_type": "stream",
     "text": [
      "list_classes\n",
      "train_set_x\n",
      "train_set_y\n"
     ]
    }
   ],
   "source": [
    "for key in train_data.keys():\n",
    "    print(key)"
   ]
  },
  {
   "cell_type": "code",
   "execution_count": 4,
   "metadata": {},
   "outputs": [
    {
     "data": {
      "text/plain": [
       "(209, 64, 64, 3)"
      ]
     },
     "execution_count": 4,
     "metadata": {},
     "output_type": "execute_result"
    }
   ],
   "source": [
    "train_data['train_set_x'].shape"
   ]
  },
  {
   "cell_type": "code",
   "execution_count": 5,
   "metadata": {},
   "outputs": [
    {
     "name": "stdout",
     "output_type": "stream",
     "text": [
      "list_classes\n",
      "test_set_x\n",
      "test_set_y\n"
     ]
    }
   ],
   "source": [
    "for key in test_data.keys():\n",
    "    print(key)"
   ]
  },
  {
   "cell_type": "code",
   "execution_count": 6,
   "metadata": {},
   "outputs": [
    {
     "data": {
      "text/plain": [
       "(50, 64, 64, 3)"
      ]
     },
     "execution_count": 6,
     "metadata": {},
     "output_type": "execute_result"
    }
   ],
   "source": [
    "test_data['test_set_x'].shape"
   ]
  },
  {
   "cell_type": "markdown",
   "metadata": {},
   "source": [
    "# 取出训练集&测试集"
   ]
  },
  {
   "cell_type": "code",
   "execution_count": 7,
   "metadata": {},
   "outputs": [],
   "source": [
    "train_data_org=train_data['train_set_x'][:]\n",
    "train_labels_org=train_data['train_set_y'][:]\n",
    "test_data_org=test_data['test_set_x'][:]\n",
    "test_labels_org=test_data['test_set_y'][:]"
   ]
  },
  {
   "cell_type": "code",
   "execution_count": 8,
   "metadata": {},
   "outputs": [
    {
     "data": {
      "text/plain": [
       "<matplotlib.image.AxesImage at 0x1fcb9285080>"
      ]
     },
     "execution_count": 8,
     "metadata": {},
     "output_type": "execute_result"
    },
    {
     "data": {
      "image/png": "[encoded data removed]",
      "text/plain": [
       "<Figure size 432x288 with 1 Axes>"
      ]
     },
     "metadata": {
      "needs_background": "light"
     },
     "output_type": "display_data"
    }
   ],
   "source": [
    "# 查看图片\n",
    "import matplotlib.pyplot as plt\n",
    "# 在线显示图片\n",
    "%matplotlib inline\n",
    "plt.imshow(train_data_org[149])"
   ]
  },
  {
   "cell_type": "markdown",
   "metadata": {},
   "source": [
    "# 输入x为n*m的向量，n为特征数，m为样本数"
   ]
  },
  {
   "cell_type": "code",
   "execution_count": 9,
   "metadata": {},
   "outputs": [],
   "source": [
    "# 数据维度的处理\n",
    "m_train=train_data_org.shape[0]\n",
    "m_test=test_data_org.shape[0]\n",
    "train_data_trans=train_data_org.reshape(m_train,-1).T\n",
    "test_data_trans=test_data_org.reshape(m_test,-1).T"
   ]
  },
  {
   "cell_type": "code",
   "execution_count": 10,
   "metadata": {},
   "outputs": [
    {
     "name": "stdout",
     "output_type": "stream",
     "text": [
      "(12288, 209) (12288, 50)\n"
     ]
    }
   ],
   "source": [
    "print(train_data_trans.shape,test_data_trans.shape)"
   ]
  },
  {
   "cell_type": "code",
   "execution_count": 11,
   "metadata": {},
   "outputs": [],
   "source": [
    "import numpy as np\n",
    "# 将label由50行转化为一行50列 \n",
    "train_labels_trans=train_labels_org[np.newaxis,:]\n",
    "test_labels_trans=test_labels_org[np.newaxis,:]"
   ]
  },
  {
   "cell_type": "code",
   "execution_count": 12,
   "metadata": {},
   "outputs": [
    {
     "name": "stdout",
     "output_type": "stream",
     "text": [
      "(1, 209) (1, 50)\n"
     ]
    }
   ],
   "source": [
    "print(train_labels_trans.shape,test_labels_trans.shape)"
   ]
  },
  {
   "cell_type": "code",
   "execution_count": 13,
   "metadata": {},
   "outputs": [],
   "source": [
    "# 标准化至[0,1]\n",
    "train_data_sta=train_data_trans/255\n",
    "test_data_sta=test_data_trans/255"
   ]
  },
  {
   "cell_type": "code",
   "execution_count": 14,
   "metadata": {},
   "outputs": [
    {
     "name": "stdout",
     "output_type": "stream",
     "text": [
      "[[0.06666667 0.76862745 0.32156863 ... 0.56078431 0.08627451 0.03137255]\n",
      " [0.12156863 0.75294118 0.27843137 ... 0.60784314 0.09411765 0.10980392]\n",
      " [0.21960784 0.74509804 0.26666667 ... 0.64705882 0.09019608 0.20784314]\n",
      " ...\n",
      " [0.         0.32156863 0.54117647 ... 0.33333333 0.01568627 0.        ]\n",
      " [0.         0.31372549 0.55294118 ... 0.41960784 0.01960784 0.        ]\n",
      " [0.         0.31764706 0.55686275 ... 0.58431373 0.         0.        ]]\n"
     ]
    }
   ],
   "source": [
    "print(train_data_sta)"
   ]
  },
  {
   "cell_type": "markdown",
   "metadata": {},
   "source": [
    "# 定义相关函数\n",
    "1. 激活函数\n",
    "1. 初始化参数\n",
    "1. 前向传播\n",
    "1. 代价函数\n",
    "1. 梯度下降（反向传播）\n",
    "1. 预测函数"
   ]
  },
  {
   "cell_type": "code",
   "execution_count": 15,
   "metadata": {},
   "outputs": [],
   "source": [
    "# 定义sigmoid函数\n",
    "def sigmoid(z):\n",
    "    a=1/(1+np.exp(-z))\n",
    "    return a"
   ]
  },
  {
   "cell_type": "code",
   "execution_count": 16,
   "metadata": {},
   "outputs": [],
   "source": [
    "# 初始化参数W，b\n",
    "n_dim=train_data_sta.shape[0]\n",
    "w=np.zeros((n_dim,1))\n",
    "b=0"
   ]
  },
  {
   "cell_type": "code",
   "execution_count": 17,
   "metadata": {},
   "outputs": [],
   "source": [
    "# 定义前向传播函数、代价函数、梯度下降\n",
    "def propagate(w,b,X,y):\n",
    "    \n",
    "    #1.前向传播函数\n",
    "    Z=np.dot(w.T,X)+b\n",
    "    A=sigmoid(Z)\n",
    "    \n",
    "    #2.代价函数\n",
    "    m=X.shape[1]\n",
    "    J=-1/m*np.sum(y*np.log(A)+(1-y)*np.log(1-A))\n",
    "    \n",
    "    #3.梯度下降\n",
    "    dw=1/m*np.dot(X,(A-y).T)\n",
    "    db=1/m*np.sum(A-y)\n",
    "    \n",
    "    grands={'dw':dw,'db':db}\n",
    "    \n",
    "    return grands,J"
   ]
  },
  {
   "cell_type": "code",
   "execution_count": 18,
   "metadata": {},
   "outputs": [],
   "source": [
    "# 优化部分\n",
    "def optimize(w,b,X,y,alpha,n_iters):\n",
    "    costs=[]\n",
    "    for i in range(n_iters):\n",
    "        grands,J=propagate(w,b,X,y)\n",
    "        dw=grands['dw']\n",
    "        db=grands['db']\n",
    "        \n",
    "        w=w-alpha*dw\n",
    "        b=b-alpha*db\n",
    "        \n",
    "        if i%100==0:\n",
    "            costs.append(J)\n",
    "            print('n_iters is ',i,'cost is',J)\n",
    "    grands={'dw':dw,'db':db}\n",
    "    params={'w':w,'b':b}\n",
    "    \n",
    "    return grands,params,costs\n",
    "        "
   ]
  },
  {
   "cell_type": "code",
   "execution_count": 19,
   "metadata": {},
   "outputs": [],
   "source": [
    "# 预测部分\n",
    "def predict(w,b,X_test):\n",
    "    Z=np.dot(w.T,X_test)+b\n",
    "    A=sigmoid(Z)\n",
    "    \n",
    "    m=X_test.shape[1]\n",
    "    y_pred=np.zeros((1,m))\n",
    "    \n",
    "    for i in range(m):\n",
    "        if A[:,i]>0.5:\n",
    "            y_pred[:,i]=1\n",
    "        else:\n",
    "            y_pred[:,i]=0\n",
    "    return y_pred\n",
    "        "
   ]
  },
  {
   "cell_type": "code",
   "execution_count": 20,
   "metadata": {},
   "outputs": [],
   "source": [
    "# 模型的整合\n",
    "def model(w,b,X_train,y_train,X_test,y_test,alpha,n_iters):\n",
    "    grands,params,costs=optimize(w,b,X_train,y_train,alpha,n_iters)\n",
    "    w=params['w']\n",
    "    b=params['b']\n",
    "    \n",
    "    y_pred_train=predict(w,b,X_train)\n",
    "    y_pred_test=predict(w,b,X_test)\n",
    "    \n",
    "    print('the trian accuracy is',np.mean(y_pred_train==y_train)*100,'%')\n",
    "    print('the test accuracy is',np.mean(y_pred_test==y_test)*100,'%')\n",
    "    \n",
    "    b={'w':w,\n",
    "       'b':b,\n",
    "       'costs':costs,\n",
    "       'y_pred_train':y_pred_train,\n",
    "       'y_pred_test':y_pred_test,\n",
    "       'alpha':alpha}\n",
    "    \n",
    "    return b"
   ]
  },
  {
   "cell_type": "markdown",
   "metadata": {},
   "source": [
    "# 模型训练和测试"
   ]
  },
  {
   "cell_type": "code",
   "execution_count": 21,
   "metadata": {},
   "outputs": [
    {
     "name": "stdout",
     "output_type": "stream",
     "text": [
      "n_iters is  0 cost is 0.6931471805599453\n"
     ]
    },
    {
     "name": "stderr",
     "output_type": "stream",
     "text": [
      "D:\\Program Files\\Anaconda\\envs\\tensor\\lib\\site-packages\\ipykernel_launcher.py:10: RuntimeWarning: divide by zero encountered in log\n",
      "  # Remove the CWD from sys.path while we load stuff.\n",
      "D:\\Program Files\\Anaconda\\envs\\tensor\\lib\\site-packages\\ipykernel_launcher.py:10: RuntimeWarning: invalid value encountered in multiply\n",
      "  # Remove the CWD from sys.path while we load stuff.\n"
     ]
    },
    {
     "name": "stdout",
     "output_type": "stream",
     "text": [
      "n_iters is  100 cost is 1.0252720971937748\n",
      "n_iters is  200 cost is 9.92345984414502\n",
      "n_iters is  300 cost is nan\n",
      "n_iters is  400 cost is 0.2778850304785309\n",
      "n_iters is  500 cost is 0.10055739711388241\n",
      "n_iters is  600 cost is 0.06701394442696157\n",
      "n_iters is  700 cost is 3.646259750887257\n",
      "n_iters is  800 cost is 0.11676540000417003\n",
      "n_iters is  900 cost is 0.02720688284209392\n",
      "n_iters is  1000 cost is 0.015438548331158602\n",
      "n_iters is  1100 cost is 0.01081947052212422\n",
      "n_iters is  1200 cost is 0.008475667017589736\n",
      "n_iters is  1300 cost is 0.007068470706605519\n",
      "n_iters is  1400 cost is 0.006127223986308473\n",
      "n_iters is  1500 cost is 0.005450643271626486\n",
      "n_iters is  1600 cost is 0.00493906401598462\n",
      "n_iters is  1700 cost is 0.004537546841896249\n",
      "n_iters is  1800 cost is 0.004213266548043793\n",
      "n_iters is  1900 cost is 0.003945346464439003\n",
      "the trian accuracy is 100.0 %\n",
      "the test accuracy is 66.0 %\n"
     ]
    }
   ],
   "source": [
    "b=model(w,b,train_data_sta,train_labels_trans,test_data_sta,test_labels_trans,alpha=0.05,n_iters=2000)"
   ]
  },
  {
   "cell_type": "code",
   "execution_count": 22,
   "metadata": {},
   "outputs": [
    {
     "data": {
      "text/plain": [
       "Text(0, 0.5, 'cost')"
      ]
     },
     "execution_count": 22,
     "metadata": {},
     "output_type": "execute_result"
    },
    {
     "data": {
      "image/png": "[encoded data removed]",
      "text/plain": [
       "<Figure size 432x288 with 1 Axes>"
      ]
     },
     "metadata": {
      "needs_background": "light"
     },
     "output_type": "display_data"
    }
   ],
   "source": [
    "plt.plot(b['costs'])\n",
    "plt.xlabel('per hundred iters')\n",
    "plt.ylabel('cost')"
   ]
  },
  {
   "cell_type": "code",
   "execution_count": 25,
   "metadata": {},
   "outputs": [
    {
     "name": "stdout",
     "output_type": "stream",
     "text": [
      "y is  1\n",
      "y_predication is  1\n"
     ]
    }
   ],
   "source": [
    "index = 1\n",
    "print('y is ',test_labels_trans[0,index])\n",
    "print('y_predication is ',int(b['y_pred_test'][0,index]))"
   ]
  },
  {
   "cell_type": "code",
   "execution_count": 26,
   "metadata": {},
   "outputs": [
    {
     "data": {
      "text/plain": [
       "<matplotlib.image.AxesImage at 0x1fcbae56e80>"
      ]
     },
     "execution_count": 26,
     "metadata": {},
     "output_type": "execute_result"
    },
    {
     "data": {
      "image/png": "[encoded data removed]",
      "text/plain": [
       "<Figure size 432x288 with 1 Axes>"
      ]
     },
     "metadata": {
      "needs_background": "light"
     },
     "output_type": "display_data"
    }
   ],
   "source": [
    "plt.imshow(test_data_org[index])"
   ]
  },
  {
   "cell_type": "code",
   "execution_count": null,
   "metadata": {},
   "outputs": [],
   "source": []
  }
 ],
 "metadata": {
  "kernelspec": {
   "display_name": "Python 3",
   "language": "python",
   "name": "python3"
  },
  "language_info": {
   "codemirror_mode": {
    "name": "ipython",
    "version": 3
   },
   "file_extension": ".py",
   "mimetype": "text/x-python",
   "name": "python",
   "nbconvert_exporter": "python",
   "pygments_lexer": "ipython3",
   "version": "3.7.3"
  }
 },
 "nbformat": 4,
 "nbformat_minor": 2
}
