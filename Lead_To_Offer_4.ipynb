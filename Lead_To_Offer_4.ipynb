{
 "cells": [
  {
   "cell_type": "markdown",
   "metadata": {},
   "source": [
    "# 39 数组中出现次数超过一半的数字\n",
    "* 基于快排,但基于的数在middle位置的时候,即为此数\n",
    "* 超过一半，则必有相同的树，且相邻"
   ]
  },
  {
   "cell_type": "code",
   "execution_count": null,
   "metadata": {},
   "outputs": [],
   "source": [
    "int morthanHalf(vector<int> a, int length)\n",
    "{\n",
    "\tint result = a[0];\n",
    "\tint time = 1;\n",
    "\tfor (int i = 1;i < length;i++)\n",
    "\t{\n",
    "\t\tif (time == 0)\n",
    "\t\t{\n",
    "\t\t\tresult = a[i];\n",
    "\t\t\ttime = 1;\n",
    "\t\t}\n",
    "\t\telse if (result == a[i])\n",
    "\t\t\ttime++;\n",
    "\t\telse\n",
    "\t\t\ttime--;\n",
    "\t}\n",
    "    return result;\n",
    "}"
   ]
  },
  {
   "cell_type": "markdown",
   "metadata": {},
   "source": [
    "# 40 最小的K个数\n",
    "1. 修改数组--类似于快排的思路\n",
    "2. 最小堆的思路"
   ]
  },
  {
   "cell_type": "code",
   "execution_count": null,
   "metadata": {},
   "outputs": [],
   "source": [
    "void insert_p(vector<int> &a, int p)\n",
    "{\n",
    "\twhile (p > 0)\n",
    "\t{\n",
    "\t\tint parent = (p - 1) / 2;\n",
    "\t\tif(a[parent] > a[p])\n",
    "\t\t//if (a[parent] < a[p])\n",
    "\t\t{\n",
    "\t\t\tswap(a[parent], a[p]);\n",
    "\t\t\tp = parent;\n",
    "\t\t}\n",
    "\t\telse break;\n",
    "\t}\n",
    "}\n",
    "\n",
    "void delete_min(vector<int> &a, int length)\n",
    "{\n",
    "\tint tmp = a[0];\n",
    "\tint index = 0;\n",
    "\n",
    "\t// 找出最大的\n",
    "\t// large指向已遍历的最大值\n",
    "\t// index指向当前空缺位置\n",
    "\twhile (1)\n",
    "\t{\n",
    "\t\tint left = 2 * index + 1;\n",
    "\t\tint right = 2 * index + 2;\n",
    "\n",
    "\t\tif (left >= length)\n",
    "\t\t\tbreak;\n",
    "\t\telse\n",
    "\t\t{\n",
    "\t\t\tint small = a[left] > a[right] ? right : left;\n",
    "\t\t\ta[index] = a[small];\n",
    "\t\t\tindex = small;\n",
    "\t\t}\n",
    "\t}\n",
    "\ta[index] = a[length];\n",
    "\ta[length] = tmp;\n",
    "\n",
    "}\n",
    "\n",
    "void HeapSort(vector<int> &a)\n",
    "{\n",
    "\tfor (int i = 0;i < a.size();i++)\n",
    "\t\tinsert_p(a, i);\n",
    "\tfor (int i = a.size() - 1;i > a.size() - 4;i--)\n",
    "\t\tdelete_min(a, i);\n",
    "}\n",
    "\n",
    "int main()\n",
    "{\n",
    "\tint myints[] = {7,15,9,2,16,45,6,7,32 };\n",
    "\tvector<int> v(myints, myints + 9);\n",
    "\tHeapSort(v);\n",
    "\tfor (int i = v.size()-1;i > v.size() - 4;i--)\n",
    "\t\tcout << v[i] << \" \";\n",
    "\tcout << endl;\n",
    "\t\n",
    "\tsystem(\"pause\");\n",
    "}\n"
   ]
  },
  {
   "cell_type": "markdown",
   "metadata": {},
   "source": [
    "# 41 数据流的中位数\n",
    "* 使用最大堆和最小堆的方式来实现\n",
    "* 数据均分为两部分,a为最大堆的堆顶,b为最小堆的堆顶\n",
    "* 确保a<b---最小堆的所有数大于最大堆的所有数\n",
    "> 插入min中的数,若比max[0]小,则先取max中的最大值\n",
    "> 插入max中的数,若比min[0]大,则先取min中的最小值"
   ]
  },
  {
   "cell_type": "code",
   "execution_count": null,
   "metadata": {},
   "outputs": [],
   "source": [
    "template<typename T> class DynamicArray\n",
    "{\n",
    "public:\n",
    "\t// 将树插入--类似于堆的建立\n",
    "\t// 规则：总数偶数时插入min\n",
    "\tvoid Insert(T num)\n",
    "\t{\n",
    "\t\tif ((min.size() + max.size()) & 1 == 0)//若为偶数\n",
    "\t\t{\n",
    "\t\t\tmax.push_back(num);\n",
    "\t\t\tpush_heap(max.begin(), max.end(), less<T>());\n",
    "\n",
    "\t\t\tnum = max[0];\n",
    "\n",
    "\t\t\tpop_heap(max.begin(), max.end(), less<T>());\n",
    "\t\t\tmax.pop_back();\n",
    "\n",
    "\t\t\tmin.push_back(num);\n",
    "\t\t\tpush_heap(min.begin(), min.end(), greater<T>());\n",
    "\t\t}\n",
    "\t\telse\n",
    "\t\t{\n",
    "\t\t\tmin.push_back(num);\n",
    "\t\t\tpush_heap(min.begin(), min.end(), greater<T>());\n",
    "\n",
    "\t\t\tnum = min[0];\n",
    "\n",
    "\t\t\tpop_heap(min.begin(), min.end(), greater<T>());\n",
    "\t\t\tmin.pop_back();\n",
    "\n",
    "\t\t\tmax.push_back(num);\n",
    "\t\t\tpush_heap(max.begin(), max.end(), less<T>());\n",
    "\t\t}\n",
    "\t}\n",
    "\n",
    "\tT getMedian()\n",
    "\t{\n",
    "\t\tint size = max.size() + min.size();\n",
    "\t\tT median = 0;\n",
    "\t\tif (size & 1 == 0)\n",
    "\t\t\tmedian = min[0];\n",
    "\t\telse\n",
    "\t\t\tmedian = (min[0] + max[0]) / 2;\n",
    "\n",
    "\t\treturn median;\n",
    "\t}\n",
    "\n",
    "private:\n",
    "\tvector<T> min;\n",
    "\tvector<T> max;\n",
    "};\n"
   ]
  },
  {
   "cell_type": "markdown",
   "metadata": {},
   "source": [
    "# 42 连续子数组的最大和\n",
    "* 若：f[i-1]<=0 则 f[i]=num[i],否则 f[i]=f[i-1]+num[i]"
   ]
  },
  {
   "cell_type": "code",
   "execution_count": null,
   "metadata": {},
   "outputs": [],
   "source": [
    "int MaxSum(vector<int> num, int length)\n",
    "{\n",
    "\tint pre = num[0];\n",
    "\tint cur = 0;\n",
    "\tint max = pre;\n",
    "\tfor (int i = 1;i < length;i++)\n",
    "\t{\n",
    "\t\tif (pre > 0)\n",
    "\t\t\tcur = pre + num[i];\n",
    "\t\telse\n",
    "\t\t\tcur = num[i];\n",
    "\n",
    "\t\tif (cur > max)\n",
    "\t\t\tmax = cur;\n",
    "\n",
    "\t\tpre = cur;\n",
    "\t}\n",
    "\treturn max;\n",
    "}"
   ]
  },
  {
   "cell_type": "markdown",
   "metadata": {},
   "source": [
    "# 43 1-n整数中1出现的次数\n",
    "[参考](https://blog.csdn.net/yi_afly/article/details/52012593)"
   ]
  },
  {
   "cell_type": "code",
   "execution_count": null,
   "metadata": {},
   "outputs": [],
   "source": [
    "int numof1between1andn(int n)\n",
    "{\n",
    "\tif (n < 1)\n",
    "\t\treturn 0;\n",
    "\n",
    "\tint num = 0;\n",
    "\tint base = 1;\n",
    "\tint round = n;\n",
    "\twhile (round != 0)\n",
    "\t{\n",
    "\t\tint left = round % 10;\n",
    "\t\tround = round / 10;\n",
    "\n",
    "\t\tnum += round * base;\n",
    "\t\tif (left == 1)\n",
    "\t\t\tnum += (n%base) + 1;\n",
    "\t\telse if (left > 1)\n",
    "\t\t\tnum += base;\n",
    "\t}\n",
    "\treturn num;\n",
    "}\n"
   ]
  },
  {
   "cell_type": "markdown",
   "metadata": {},
   "source": [
    "# 47 礼物的最大值\n",
    "1. 动态规划\n",
    "2. 二维数组"
   ]
  },
  {
   "cell_type": "markdown",
   "metadata": {},
   "source": [
    "# 49 丑数"
   ]
  },
  {
   "cell_type": "markdown",
   "metadata": {},
   "source": [
    "# 50 第一次出现一次的字符\n",
    "* 使用哈希表，key和value\n",
    "* key就是每个字符"
   ]
  },
  {
   "cell_type": "code",
   "execution_count": null,
   "metadata": {},
   "outputs": [],
   "source": [
    "char FirstNotRepeating(char* pString)\n",
    "{\n",
    "\tif (pString == nullptr)\n",
    "\t\treturn '\\0';\n",
    "\n",
    "\tconst int tablesize = 256;\n",
    "\tunsigned int hashtable[tablesize];\n",
    "\tfor (unsigned int i = 0;i < tablesize;i++)\n",
    "\t\thashtable[i] = 0;\n",
    "\n",
    "\tchar* pHshaKey = pString;\n",
    "\twhile (*(pHshaKey) != '\\0')\n",
    "\t\thashtable[*(pHshaKey++)]++;\n",
    "\n",
    "\tpHshaKey = pString;\n",
    "\twhile (*pHshaKey != '\\0')\n",
    "\t{\n",
    "\t\tif (hashtable[*pHshaKey] == 1)\n",
    "\t\t\treturn *pHshaKey;\n",
    "\n",
    "\t\tpHshaKey++;\n",
    "\t}\n",
    "    return '\\0';\n",
    "}"
   ]
  },
  {
   "cell_type": "markdown",
   "metadata": {},
   "source": [
    "# 52 两个链表第一个公共节点\n",
    "1. 得出两个链表长度\n",
    "2. 长链表先走 两个链表的差值\n",
    "3. 长短链表同步走"
   ]
  },
  {
   "cell_type": "markdown",
   "metadata": {},
   "source": [
    "# 55 二叉树的深度"
   ]
  },
  {
   "cell_type": "code",
   "execution_count": null,
   "metadata": {},
   "outputs": [],
   "source": [
    "int depth(BinTreeNode* root)\n",
    "{\n",
    "\tif (root == nullptr) \n",
    "\t\treturn 0;\n",
    "\n",
    "\tint Rleft = depth(root->b_left);\n",
    "\tint Rright = depth(root->b_right);\n",
    "\n",
    "\treturn max(Rleft+1, Rright+1);\n",
    "}"
   ]
  }
 ],
 "metadata": {
  "kernelspec": {
   "display_name": "Python 3",
   "language": "python",
   "name": "python3"
  },
  "language_info": {
   "codemirror_mode": {
    "name": "ipython",
    "version": 3
   },
   "file_extension": ".py",
   "mimetype": "text/x-python",
   "name": "python",
   "nbconvert_exporter": "python",
   "pygments_lexer": "ipython3",
   "version": "3.7.3"
  }
 },
 "nbformat": 4,
 "nbformat_minor": 2
}
