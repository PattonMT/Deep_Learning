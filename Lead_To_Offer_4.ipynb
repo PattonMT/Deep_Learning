{
 "cells": [
  {
   "cell_type": "markdown",
   "metadata": {},
   "source": [
    "# 39 数组中出现次数超过一半的数字\n",
    "* 基于快排,但基于的数在middle位置的时候,即为此数"
   ]
  },
  {
   "cell_type": "markdown",
   "metadata": {},
   "source": [
    "# 40 最小的K个数\n",
    "1. 修改数组--类似于快排的思路\n",
    "2. 最小堆的思路"
   ]
  },
  {
   "cell_type": "code",
   "execution_count": null,
   "metadata": {},
   "outputs": [],
   "source": [
    "void insert_p(vector<int> &a, int p)\n",
    "{\n",
    "\twhile (p > 0)\n",
    "\t{\n",
    "\t\tint parent = (p - 1) / 2;\n",
    "\t\tif(a[parent] > a[p])\n",
    "\t\t//if (a[parent] < a[p])\n",
    "\t\t{\n",
    "\t\t\tswap(a[parent], a[p]);\n",
    "\t\t\tp = parent;\n",
    "\t\t}\n",
    "\t\telse break;\n",
    "\t}\n",
    "}\n",
    "\n",
    "void delete_min(vector<int> &a, int length)\n",
    "{\n",
    "\tint tmp = a[0];\n",
    "\tint index = 0;\n",
    "\n",
    "\t// 找出最大的\n",
    "\t// large指向已遍历的最大值\n",
    "\t// index指向当前空缺位置\n",
    "\twhile (1)\n",
    "\t{\n",
    "\t\tint left = 2 * index + 1;\n",
    "\t\tint right = 2 * index + 2;\n",
    "\n",
    "\t\tif (left >= length)\n",
    "\t\t\tbreak;\n",
    "\t\telse\n",
    "\t\t{\n",
    "\t\t\tint small = a[left] > a[right] ? right : left;\n",
    "\t\t\ta[index] = a[small];\n",
    "\t\t\tindex = small;\n",
    "\t\t}\n",
    "\t}\n",
    "\ta[index] = a[length];\n",
    "\ta[length] = tmp;\n",
    "\n",
    "}\n",
    "\n",
    "void HeapSort(vector<int> &a)\n",
    "{\n",
    "\tfor (int i = 0;i < a.size();i++)\n",
    "\t\tinsert_p(a, i);\n",
    "\tfor (int i = a.size() - 1;i > a.size() - 4;i--)\n",
    "\t\tdelete_min(a, i);\n",
    "}\n",
    "\n",
    "int main()\n",
    "{\n",
    "\tint myints[] = {7,15,9,2,16,45,6,7,32 };\n",
    "\tvector<int> v(myints, myints + 9);\n",
    "\tHeapSort(v);\n",
    "\tfor (int i = v.size()-1;i > v.size() - 4;i--)\n",
    "\t\tcout << v[i] << \" \";\n",
    "\tcout << endl;\n",
    "\t\n",
    "\tsystem(\"pause\");\n",
    "}\n"
   ]
  },
  {
   "cell_type": "markdown",
   "metadata": {},
   "source": [
    "# 41 数据流的中位数\n",
    "* 使用最大堆和最小堆的方式来实现\n",
    "* 数据均分为两部分,a为最大堆的堆顶,b为最小堆的堆顶\n",
    "* 确保a<b---最小堆的所有数大于最大堆的所有数\n",
    "> 插入min中的数,若比max[0]小,则先取max中的最大值\n",
    "> 插入max中的数,若比min[0]大,则先取min中的最小值"
   ]
  },
  {
   "cell_type": "code",
   "execution_count": null,
   "metadata": {},
   "outputs": [],
   "source": []
  }
 ],
 "metadata": {
  "kernelspec": {
   "display_name": "Python 3",
   "language": "python",
   "name": "python3"
  },
  "language_info": {
   "codemirror_mode": {
    "name": "ipython",
    "version": 3
   },
   "file_extension": ".py",
   "mimetype": "text/x-python",
   "name": "python",
   "nbconvert_exporter": "python",
   "pygments_lexer": "ipython3",
   "version": "3.7.3"
  }
 },
 "nbformat": 4,
 "nbformat_minor": 2
}
