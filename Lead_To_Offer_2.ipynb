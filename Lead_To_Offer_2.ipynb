{
 "cells": [
  {
   "cell_type": "markdown",
   "metadata": {},
   "source": [
    "# 数值的整数次方\n",
    "1. 位运算的适用范围仅仅是整数\n",
    "2. 递归算法适用负数"
   ]
  },
  {
   "cell_type": "code",
   "execution_count": null,
   "metadata": {},
   "outputs": [],
   "source": [
    "# 位运算\n",
    "int pow_test(int m, int n)\n",
    "{\n",
    "\tint sum = 1;\n",
    "\tint temp = m;\n",
    "\twhile (n)\n",
    "\t{\n",
    "\t\tif (n & 1 == 1)\n",
    "\t\t\tsum *= temp;\n",
    "\n",
    "\t\tn=n >> 1;\n",
    "\t\ttemp *= temp;\n",
    "\t}\n",
    "\treturn sum ;\n",
    "}\n",
    "\n",
    "# 递归\n",
    "double pow_try(double m, int n)\n",
    "{\n",
    "\tif (n == 0)\n",
    "\t\treturn 1.0;\n",
    "\tif (n == 1)\n",
    "\t\treturn m;\n",
    "\n",
    "\tdouble base = pow_try(m,n>>1);\n",
    "\tbase *= base;\n",
    "\t\n",
    "\tif (n & 1 == 1)\n",
    "\t\tbase *= m;\n",
    "\n",
    "\treturn base;\t\n",
    "}"
   ]
  },
  {
   "cell_type": "markdown",
   "metadata": {},
   "source": [
    "# 打印 1-最大的n位数\n",
    "难点：大数--需要将数转化为字符串"
   ]
  },
  {
   "cell_type": "markdown",
   "metadata": {},
   "source": [
    "# 调整数组，使奇数在前，偶数在后\n",
    "* 借鉴快排的方法"
   ]
  },
  {
   "cell_type": "code",
   "execution_count": null,
   "metadata": {},
   "outputs": [],
   "source": [
    "void changearray(vector<int> &a)\n",
    "{\n",
    "\t//int tmp = a[0];\n",
    "\tint i = 0;\n",
    "\tint j = a.size() - 1;\n",
    "\twhile (i <= j)\n",
    "\t{\n",
    "\t\t//cout << ((a[i] & 1) == 1) << ' ' << ((a[j] & 1) == 0) << '\\n';\n",
    "\t\twhile ((a[i] & 1) == 1) { i++; }\n",
    "\t\twhile ((a[j] & 1) == 0) { j--; }\n",
    "\n",
    "\t\tif (i <= j)\n",
    "\t\t{\n",
    "\t\t\tswap(a[i], a[j]);\n",
    "\t\t\tcout << \"i is \" << a[i] << ' ' << \"j is \" << a[j] << \"\\n\";\n",
    "\t\t\ti++;\n",
    "\t\t\tj--;\n",
    "\t\t}\n",
    "\t}\t\n",
    "}"
   ]
  },
  {
   "cell_type": "markdown",
   "metadata": {},
   "source": [
    "# 链表中倒数第K个节点\n",
    "* 双指针\n",
    "* 第一个指针到（k-1）时，第二个与第一个开始同步前进\n",
    "* 增加测试样例，提高鲁棒性"
   ]
  },
  {
   "cell_type": "code",
   "execution_count": null,
   "metadata": {},
   "outputs": [],
   "source": [
    "ListNode* FindKthNode(ListNode*pListHead, int k)\n",
    "{\n",
    "\tif (pListHead == NULL || k == 0)\n",
    "\t\treturn NULL;\n",
    "\t\n",
    "\tListNode* ANode = pListHead;\n",
    "\tListNode* BNode = ANode;\n",
    "\n",
    "\tfor (int i = 0;i < k - 1;i++)\n",
    "\t\tANode = ANode->n_next;\n",
    "\n",
    "\twhile (ANode->n_next)\n",
    "\t{\n",
    "\t\tANode = ANode->n_next;\n",
    "\t\tBNode = BNode->n_next;\n",
    "\t}\n",
    "\treturn BNode;\n",
    "}"
   ]
  },
  {
   "cell_type": "markdown",
   "metadata": {},
   "source": [
    "# 链表中*环*的入口节点\n",
    "1. 先判断是否有环：双指针，一快一慢，快的追上慢的，则有环\n",
    "2. 找入口：双指针，第一个比第二个多环的节点数n"
   ]
  },
  {
   "cell_type": "markdown",
   "metadata": {},
   "source": [
    "# 反转链表"
   ]
  },
  {
   "cell_type": "code",
   "execution_count": null,
   "metadata": {},
   "outputs": [],
   "source": [
    "ListNode* ReverseList(ListNode* pHead)\n",
    "{\n",
    "\t// 定义三个循环节点\n",
    "    ListNode* pre;\n",
    "\tListNode* curr;\n",
    "\tListNode* follow;\n",
    "    \n",
    "    // 初始化\n",
    "\tpre = pHead;\n",
    "\tcurr = pHead->n_next;\n",
    "\tfollow = curr->n_next;\n",
    "    \n",
    "    // 循环，每次改变一个节点的指针方向\n",
    "\tpHead->n_next = NULL;\n",
    "\twhile (follow!=NULL)\n",
    "\t{\n",
    "\t\tcurr->n_next = pre;\n",
    "\t\tpre = curr;\n",
    "\t\tcurr = follow;\n",
    "\t\tfollow = follow->n_next;\n",
    "\t}\n",
    "\tcurr->n_next = pre;\n",
    "}"
   ]
  },
  {
   "cell_type": "markdown",
   "metadata": {},
   "source": [
    "# 合并两个排序好的链表"
   ]
  },
  {
   "cell_type": "code",
   "execution_count": null,
   "metadata": {},
   "outputs": [],
   "source": [
    "ListNode*Merge(ListNode* pHead1, ListNode* pHead2)\n",
    "{\n",
    "\tif (pHead1 == NULL)\n",
    "\t\treturn pHead2;\n",
    "\tif (pHead2 == NULL)\n",
    "\t\treturn pHead1;\n",
    "\n",
    "\tListNode* MergedHead = NULL;\n",
    "\tif (pHead1->n_next < pHead2->n_next)\n",
    "\t{\n",
    "\t\tMergedHead = pHead1;\n",
    "\t\tMergedHead->n_next = Merge(pHead1->n_next,pHead2);\n",
    "\t}\n",
    "\telse\n",
    "\t{\n",
    "\t\tMergedHead = pHead2;\n",
    "\t\tMergedHead->n_next = Merge(pHead1,pHead2->n_next);\n",
    "\t}\n",
    "\treturn MergedHead;\n",
    "}"
   ]
  }
 ],
 "metadata": {
  "kernelspec": {
   "display_name": "Python 3",
   "language": "python",
   "name": "python3"
  },
  "language_info": {
   "codemirror_mode": {
    "name": "ipython",
    "version": 3
   },
   "file_extension": ".py",
   "mimetype": "text/x-python",
   "name": "python",
   "nbconvert_exporter": "python",
   "pygments_lexer": "ipython3",
   "version": "3.7.3"
  }
 },
 "nbformat": 4,
 "nbformat_minor": 2
}
