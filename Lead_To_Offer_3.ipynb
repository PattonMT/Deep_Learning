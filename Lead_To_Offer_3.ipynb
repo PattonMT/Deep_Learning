{
 "cells": [
  {
   "cell_type": "markdown",
   "metadata": {},
   "source": [
    "# 对应剑指offer第四章--解决面试题的思路\n",
    "1.  抽象问题具体化\n",
    ">1. 画图\n",
    ">1. 举例\n",
    "\n",
    "1. 分解让复杂问题简单化"
   ]
  },
  {
   "cell_type": "markdown",
   "metadata": {},
   "source": [
    "# 27 二叉树的镜像\n",
    "* 树不一定必须是完全二叉树\n",
    "* 自上而下,自左而右"
   ]
  },
  {
   "cell_type": "code",
   "execution_count": null,
   "metadata": {},
   "outputs": [],
   "source": [
    "// 二叉树的镜像\n",
    "//// 树的申明\n",
    "struct BinaryTree\n",
    "{\n",
    "\tint b_value;\n",
    "\tBinaryTree* b_left;\n",
    "\tBinaryTree* b_right;\n",
    "};\n",
    "\n",
    "//// 函数\n",
    "void MirrorBinTree(BinaryTree* pNode)\n",
    "{\n",
    "\tif (pNode == nullptr)\n",
    "\t\treturn;\n",
    "\tif (pNode->b_left == nullptr&&pNode->b_right == nullptr)\n",
    "\t\treturn;\n",
    "\t\n",
    "\tBinaryTree* pTemp = pNode->b_left;\n",
    "\tpNode->b_left = pNode->b_right;\n",
    "\tpNode->b_right = pTemp;\n",
    "\n",
    "\tif (pNode->b_left)\n",
    "\t\tMirrorBinTree(pNode->b_left);\n",
    "\tif (pNode->b_right)\n",
    "\t\tMirrorBinTree(pNode->b_right);\n",
    "}"
   ]
  },
  {
   "cell_type": "markdown",
   "metadata": {},
   "source": [
    "# 28 对称二叉树\n",
    "* 判断二叉树是不是对称\n",
    "* 如果二叉树的镜像和本身一样,则是对称二叉树\n",
    "* 前序遍历和对称前序遍历,需要考虑空指针的情况"
   ]
  },
  {
   "cell_type": "code",
   "execution_count": null,
   "metadata": {},
   "outputs": [],
   "source": [
    "// 对称二叉树\n",
    "//// 初次输入时两个root相同\n",
    "bool isSym(BinaryTree* root1, BinaryTree* root2)\n",
    "{\n",
    "\tif (root1 ==nullptr&& root2==nullptr)\n",
    "\t\treturn true;\n",
    "\tif (root1 == nullptr|| root2 == nullptr)\n",
    "\t\treturn false;\n",
    "\n",
    "\tif (root1->b_value != root2->b_value)\n",
    "\t\treturn false;\n",
    "\n",
    "\treturn isSym(root1->b_left, root2->b_right) && isSym(root1->b_right, root1->b_left);\n",
    "}"
   ]
  },
  {
   "cell_type": "markdown",
   "metadata": {},
   "source": [
    "# 29 顺序打印矩阵\n",
    "1. 取左上角的元素为 start\n",
    "1. 边界条件为 col>2*start && row>2*start\n",
    "3. 每次打印一圈"
   ]
  },
  {
   "cell_type": "markdown",
   "metadata": {},
   "source": [
    "# 30 包含min函数的栈\n",
    "1. 用辅助栈实现最小栈的功能"
   ]
  },
  {
   "cell_type": "code",
   "execution_count": null,
   "metadata": {},
   "outputs": [],
   "source": [
    "template <typename T> class StackWithMin\n",
    "{\n",
    "public:\n",
    "\tStackWithMin() {}\n",
    "\tvirtual ~StackWithMin() {}\n",
    "\n",
    "\tT& top();\n",
    "\tconst T& top() const;\n",
    "\n",
    "\tvoid push(const T& value);\n",
    "\tvoid pop();\n",
    "\n",
    "\tconst T& min() const;\n",
    "\n",
    "\tbool empty() const;\n",
    "\tsize_t size() const;\n",
    "\n",
    "private:\n",
    "\tstack<T>   m_data;     // 数据栈，存放栈的所有元素\n",
    "\tstack<T>   m_min;      // 辅助栈，存放栈的最小元素\n",
    "};\n",
    "\n",
    "template <typename T> void StackWithMin<T>::push(const T& value)\n",
    "{\n",
    "\tm_data.push(value);\n",
    "\tif (m_min.size() == 0 || value < m_min.top())\n",
    "\t\tm_min.push(value);\n",
    "\telse\n",
    "\t\tm_min.push(m_min.top());\n",
    "}\n",
    "\n",
    "template <typename T> void StackWithMin<T>::pop()\n",
    "{\n",
    "\tm_min.pop();\n",
    "\tm_data.pop();\n",
    "}\n",
    "\n",
    "template <typename T> const T&  StackWithMin<T>::min() const\n",
    "{\n",
    "\tassert(m_data.size() > 0);\n",
    "\treturn m_min.top();\n",
    "}"
   ]
  },
  {
   "cell_type": "markdown",
   "metadata": {},
   "source": [
    "# 31 栈的压入、弹出序列\n",
    "* 判断输出结构是否能有入栈顺序得出\n",
    "* 如果下一个弹出的数字刚好是栈顶，则直接弹出，否则就压栈将待弹出树压到栈顶"
   ]
  },
  {
   "cell_type": "code",
   "execution_count": null,
   "metadata": {},
   "outputs": [],
   "source": [
    "bool isPopOrder(const vector<int> pPush, const vector<int> pPop)\n",
    "{\n",
    "\tif (pPush.size() != pPop.size())\n",
    "\t\treturn false;\n",
    "\tstack<int> stc;\n",
    "\tfor (int i = 0, j = 0;i < pPush.size();i++)\n",
    "\t{\n",
    "\t\tstc.push(pPush[i]);\n",
    "\t\twhile (j<pPop.size()&&stc.top()==pPop[j])\n",
    "\t\t{\n",
    "\t\t\tstc.pop();\n",
    "\t\t\tj++;\n",
    "\t\t}\n",
    "\t}\n",
    "\treturn stc.empty();  // 通过判断栈是否为空，来判断是否是输出\n",
    "}"
   ]
  },
  {
   "cell_type": "markdown",
   "metadata": {},
   "source": [
    "# 32 层序遍历二叉树，并按层输出\n",
    "* 每层添加标志，每打印一次，toBePrinted减1\n",
    "* 每压栈一次，nextlevelsize加1"
   ]
  },
  {
   "cell_type": "code",
   "execution_count": null,
   "metadata": {},
   "outputs": [],
   "source": [
    "void Print(BinaryTree* pRoot)\n",
    "{\n",
    "\tqueue<BinaryTree*> q;\n",
    "\tq.push(pRoot);\n",
    "\tint toBePrinted = 1;\n",
    "\tint nextLevelSize = 0;\n",
    "\twhile (!q.empty())\n",
    "\t{\n",
    "\t\tBinaryTree* print_one = q.front();\n",
    "\t\tcout << print_one->b_value << ' ';\n",
    "\n",
    "\t\tif (print_one->b_left)\n",
    "\t\t{\n",
    "\t\t\tq.push(print_one->b_left);\n",
    "\t\t\tnextLevelSize++;\n",
    "\t\t}\n",
    "\t\t\t\n",
    "\t\tif (print_one->b_right)\n",
    "\t\t{\n",
    "\t\t\tq.push(print_one->b_right);\n",
    "\t\t\tnextLevelSize++;\n",
    "\t\t}\n",
    "\t\t\n",
    "\t\tq.pop();\n",
    "\t\ttoBePrinted--;\n",
    "\t\tif (toBePrinted == 0)\n",
    "\t\t{\n",
    "\t\t\tcout << '\\n';\n",
    "\t\t\ttoBePrinted = nextLevelSize;\n",
    "\t\t\tnextLevelSize = 0;\n",
    "\t\t}\n",
    "\t}\n",
    "}\n"
   ]
  },
  {
   "cell_type": "markdown",
   "metadata": {},
   "source": [
    "# 33 判断是不是二叉搜索树的后序遍历\n",
    "1. 先找根节点\n",
    "2. 再分左右子节点\n",
    "3. 左子树都小于根节点，右子树都小于根节点\n",
    "\n",
    ">* 思路是先假定是后序遍历，检测它符合二叉搜索树的条件"
   ]
  },
  {
   "cell_type": "code",
   "execution_count": null,
   "metadata": {},
   "outputs": [],
   "source": [
    "bool sequenceofBST(int sequence[],int length)\n",
    "{\n",
    "\tif (sequence==nullptr)\n",
    "\t\treturn false;\n",
    "\n",
    "\tint root = sequence[length - 1];\n",
    "\n",
    "\tint i = 0;\n",
    "\tint j = 0;\n",
    "\t// 找左子树\n",
    "\tfor (i = 0;i < length - 1;i++)\n",
    "\t{\n",
    "\t\tif (sequence[i] > root)\n",
    "\t\t\tbreak;\n",
    "\t}\n",
    "\t// 右子树都大于root\n",
    "\tfor (j = i;j < length - 1;j--)\n",
    "\t{\n",
    "\t\tif (sequence[j] < root)\n",
    "\t\t\treturn false;\n",
    "\t}\n",
    "\n",
    "\t// 判断左子树是否为BTS\n",
    "\tbool left = false;\n",
    "\tleft = sequenceofBST(sequence, i);\n",
    "\n",
    "\t// 判断右子树是否为BFS\n",
    "\tbool right = false;\n",
    "\tright = sequenceofBST(sequence + i, length - 1 - i);\n",
    "\n",
    "\treturn (right&&left);\n",
    "}"
   ]
  },
  {
   "cell_type": "markdown",
   "metadata": {},
   "source": [
    "# 34 二叉树中和为某一值的路径\n",
    "1. 判断是否是叶子节点\n",
    "2. 判断所有的和是不是相等\n",
    "3. 打印路径时候需要访问每个元素，遂用vector实现栈的功能"
   ]
  },
  {
   "cell_type": "code",
   "execution_count": null,
   "metadata": {},
   "outputs": [],
   "source": [
    "// currentSum 初始化为0\n",
    "void FindPath(BinaryTree* a, int Sum, vector<int> & path, int currentSum)\n",
    "{\n",
    "\tcurrentSum += a->b_value;\n",
    "\tpath.push_back(a->b_value);\n",
    "\n",
    "\t// 判断是否是叶节点，是否和相同\n",
    "\tbool ifLeaf = a->b_left == nullptr&&a->b_right == nullptr;\n",
    "\tif (currentSum == Sum && ifLeaf)\n",
    "\t{\n",
    "\t\tcout << \"A path is found \\n\";\n",
    "\t\tvector<int>::iterator it = path.begin();\n",
    "\t\tfor (;it != path.end();it++)\n",
    "\t\t\tcout << *it << ' ';\n",
    "\t}\n",
    "\n",
    "\t// 若不是叶节点，遍历子节点\n",
    "\tif (a->b_left != nullptr)\n",
    "\t\tFindPath(a, Sum, path, currentSum);\n",
    "\tif (a->b_right != nullptr)\n",
    "\t\tFindPath(a, Sum, path, currentSum);\n",
    "\n",
    "\t// 每次都肯定会返回父节点，则要弹出最后一位\n",
    "\tpath.pop_back();\n",
    "}"
   ]
  },
  {
   "cell_type": "markdown",
   "metadata": {},
   "source": [
    "# 35 复杂链表的复制\n",
    "1. 方法一：先复制，再挨个从链表头部找pSibiling，时间复杂度为O(n^2)\n",
    "2. 方法二: 空间复杂度换时间复杂度,利用哈希表,建立复制前后链表之间的联系\n",
    "3. 方法三: 将复制的放在被复制的后面,则不需要空间消耗:A,A',B,B'"
   ]
  },
  {
   "cell_type": "code",
   "execution_count": null,
   "metadata": {},
   "outputs": [],
   "source": [
    "// 复制链表，插空连接\n",
    "void CloneNodes(complexListNode* pHead)\n",
    "{\n",
    "\tcomplexListNode* pNode = pHead;\n",
    "\twhile (pNode != nullptr)\n",
    "\t{\n",
    "\t\tcomplexListNode* pCloned = new complexListNode();\n",
    "\t\tpCloned->p_value = pNode->p_value;\n",
    "\t\tpCloned->p_next = pNode->p_next;\n",
    "\t\tpCloned->p_sibiling = nullptr;\n",
    "\n",
    "\t\tpNode->p_next = pCloned;\n",
    "\n",
    "\t\tpNode = pCloned->p_next;\n",
    "\t}\n",
    "}\n",
    "\n",
    "// 设置p_sibiling\n",
    "void connectSibilingNodes(complexListNode* pHead)\n",
    "{\n",
    "\tcomplexListNode* pNode = pHead;\n",
    "\twhile (pNode != nullptr)\n",
    "\t{\n",
    "\t\tcomplexListNode* pCloned = pNode->p_next;\n",
    "\t\tif (pNode->p_sibiling != nullptr)\n",
    "\t\t\tpCloned->p_sibiling = pNode->p_sibiling->p_next;\n",
    "\n",
    "\t\tpNode = pCloned->p_next;\n",
    "\t}\n",
    "}\n",
    "\n",
    "// 把长链表分成两个链表，奇数偶数\n",
    "complexListNode* ReconectedNodes(complexListNode* pHead)\n",
    "{\n",
    "\tcomplexListNode* pNode = pHead;\n",
    "\tcomplexListNode* pClondeHead = nullptr;\n",
    "\tcomplexListNode* pClonedNode = nullptr;\n",
    "\n",
    "\t// 构建克隆链表的链表头\n",
    "\tif (pNode!=nullptr)\n",
    "\t{\n",
    "\t\tpClondeHead = pClonedNode = pNode->p_next;\n",
    "\t\tpNode->p_next = pClonedNode->p_next;\n",
    "\t\tpNode = pNode->p_next;\n",
    "\t}\n",
    "\n",
    "\t// 循环分开两个链表\n",
    "\twhile (pNode!=nullptr)\n",
    "\t{\n",
    "\t\tpClonedNode->p_next = pNode->p_next;\n",
    "\t\tpClonedNode = pClonedNode->p_next;\n",
    "\t\tpNode->p_next = pClonedNode->p_next;\n",
    "\t\tpNode = pNode->p_next;\n",
    "\t}\n",
    "\treturn pClonedNode;\n",
    "}"
   ]
  },
  {
   "cell_type": "markdown",
   "metadata": {},
   "source": [
    "# 36 二叉搜索树转换为排序双向链表"
   ]
  },
  {
   "cell_type": "code",
   "execution_count": null,
   "metadata": {},
   "outputs": [],
   "source": [
    "BinaryTree* Convert(BinaryTree* pOrigin)\n",
    "{\n",
    "\tBinaryTree*pLastNode = nullptr;\n",
    "\tConvertNode(pOrigin, &pLastNode);\n",
    "}\n",
    "\n",
    "void ConvertNode(BinaryTree* pNode, BinaryTree**pLastNode)\n",
    "{\n",
    "\tif (pNode == nullptr)\n",
    "\t\treturn;\n",
    "\n",
    "\tBinaryTree* pCurrent = pNode;\n",
    "\n",
    "\tif (pCurrent->b_left != nullptr)\n",
    "\t\tConvertNode(pCurrent->b_left, pLastNode);\n",
    "\t// 将当前值左（前）指向lastnode\n",
    "\t// lastnode 的右（后）指向当前值\n",
    "\tpCurrent->b_left = *pLastNode;\n",
    "\tif (pLastNode != nullptr)\n",
    "\t\t(*pLastNode)->b_right = pCurrent;\n",
    "\t// 将last指向当前值\n",
    "\t*pLastNode = pCurrent;\n",
    "\n",
    "\tif (pCurrent->b_right != nullptr)\n",
    "\t\tConvertNode(pCurrent->b_right, pLastNode);\n",
    "}"
   ]
  },
  {
   "cell_type": "markdown",
   "metadata": {},
   "source": [
    "# 37 序列化二叉树\n",
    "1. 将二叉树转化为字符串\n",
    "1. nullper用特殊符号表示\n",
    "1. 数字将用 ， 隔开\n",
    "1. 反序列化--根据结果推初始--"
   ]
  },
  {
   "cell_type": "code",
   "execution_count": null,
   "metadata": {},
   "outputs": [],
   "source": [
    "// 序列化\n",
    "void Series(BinaryTree* pRoot, ostream & stream)\n",
    "{\n",
    "\tif (pRoot == nullptr)\n",
    "\t{\n",
    "\t\tstream << \"$,\";\n",
    "\t\treturn;\n",
    "\t}\n",
    "\tstream << pRoot->b_value << ',';\n",
    "\tSeries(pRoot->b_left, stream);\n",
    "\tSeries(pRoot->b_right, stream);\n",
    "}"
   ]
  },
  {
   "cell_type": "markdown",
   "metadata": {},
   "source": [
    "# 38 字符串的排列\n",
    "* 思路:固定第一个,找下面的排序可能\n",
    "* 实现:使用递归"
   ]
  },
  {
   "cell_type": "code",
   "execution_count": null,
   "metadata": {},
   "outputs": [],
   "source": [
    "void Permutation(char* pStr, char* pBegin)\n",
    "{\n",
    "\tif (*pBegin == '\\0')\n",
    "\t\tcout << pStr << endl;\n",
    "\telse\n",
    "\t{\n",
    "\t\tfor (char* pCh = pBegin;*pCh != '\\0';pCh++)\n",
    "\t\t{\n",
    "\t\t\t// 列出所有可能的头部\n",
    "\t\t\t// 通过将第一个与后面的顺次交换\n",
    "\t\t\tchar temp = *pCh;\n",
    "\t\t\t*pCh = *pBegin;\n",
    "\t\t\t*pBegin = temp;\n",
    "\n",
    "\t\t\t// 定好第一个数，再递归进行下一个数的确定\n",
    "\t\t\tPermutation(pStr, pBegin + 1);\n",
    "\n",
    "\t\t\t// 恢复成初始的字符状态\n",
    "\t\t\ttemp = *pCh;\n",
    "\t\t\t*pCh = *pBegin;\n",
    "\t\t\t*pBegin = temp;\n",
    "\n",
    "\t\t}\n",
    "\t}\n",
    "}"
   ]
  }
 ],
 "metadata": {
  "kernelspec": {
   "display_name": "Python 3",
   "language": "python",
   "name": "python3"
  },
  "language_info": {
   "codemirror_mode": {
    "name": "ipython",
    "version": 3
   },
   "file_extension": ".py",
   "mimetype": "text/x-python",
   "name": "python",
   "nbconvert_exporter": "python",
   "pygments_lexer": "ipython3",
   "version": "3.7.3"
  }
 },
 "nbformat": 4,
 "nbformat_minor": 2
}
