{
 "cells": [
  {
   "cell_type": "markdown",
   "metadata": {},
   "source": [
    "# 输入连续数进入vector"
   ]
  },
  {
   "cell_type": "code",
   "execution_count": null,
   "metadata": {},
   "outputs": [],
   "source": [
    "\tvector<int> a;\n",
    "\tint num,i=0;\n",
    "\tint temple;\n",
    "    \n",
    "\tcin >> num;\n",
    "\twhile (i<num)\n",
    "\t{\n",
    "\t\tcin >> temple;\n",
    "\t\ta.push_back(temple);\n",
    "\t\ti++;\n",
    "\t}"
   ]
  },
  {
   "cell_type": "markdown",
   "metadata": {},
   "source": [
    "# 迭代器输出vector"
   ]
  },
  {
   "cell_type": "code",
   "execution_count": null,
   "metadata": {},
   "outputs": [],
   "source": [
    "\tfor (vector<int>::iterator it = a.begin();it != a.end();++it)\n",
    "\t\tcout<< *it<< ' ';\n",
    "    cout << endl;"
   ]
  },
  {
   "cell_type": "markdown",
   "metadata": {},
   "source": [
    "# 输出二维vector"
   ]
  },
  {
   "cell_type": "code",
   "execution_count": null,
   "metadata": {},
   "outputs": [],
   "source": [
    "\tfor (int i = 0;i < res.size();i++)\n",
    "\t{\n",
    "\t\tfor (int j = 0;j < res[i].size();j++)\n",
    "\t\t\tcout << res[i][j] << \" \";\n",
    "\t\tcout << endl;\n",
    "\t}\n",
    "\tcout << endl;"
   ]
  },
  {
   "cell_type": "markdown",
   "metadata": {},
   "source": [
    "# 输入多行字符串"
   ]
  },
  {
   "cell_type": "code",
   "execution_count": null,
   "metadata": {},
   "outputs": [],
   "source": [
    "\tstring s;\n",
    "\tvector <string> a;\n",
    "\tint num;\n",
    "\tcin >> num;\n",
    "\tcin.ignore();\n",
    "    \n",
    "\twhile (num--)\n",
    "\t{\n",
    "\t\tgetline(cin, s);\n",
    "\t\ta.push_back(s);\n",
    "\t}\n",
    "\n",
    "\tfor (int i=0;i<a.size();i++)\n",
    "\t\tcout << a[i] << endl;\n",
    "\tcout << endl;"
   ]
  },
  {
   "cell_type": "markdown",
   "metadata": {},
   "source": [
    "# 华为0731笔试题第二题\n",
    "找匹配的数"
   ]
  },
  {
   "cell_type": "code",
   "execution_count": null,
   "metadata": {},
   "outputs": [],
   "source": [
    "\tstring s;\n",
    "\tvector <string> a;\n",
    "\tvector<int> result;\n",
    "\tint num;\n",
    "\tcin >> num;\n",
    "\tcin.ignore();\n",
    "\twhile (num--)\n",
    "\t{\n",
    "\t\tgetline(cin, s);\n",
    "\t\ta.push_back(s);\n",
    "\t}\n",
    "\n",
    "    for (int i = 0;i < a.size();i+=2)\n",
    "\t{\n",
    "\t\ta[i] += a[i];\n",
    "\t}\n",
    "\n",
    "\tfor (int i = 0;i < a.size();i += 2)\n",
    "\t{\n",
    "\t\tif (a[i].find(a[i + 1])!=string::npos)\n",
    "\t\t\tresult.push_back(1);\n",
    "\t\telse\n",
    "\t\t\tresult.push_back(0);\n",
    "\t}\n",
    "\n",
    "\tfor (int i = 0;i < result.size();i++)\n",
    "\t\tcout << result[i];"
   ]
  },
  {
   "cell_type": "markdown",
   "metadata": {},
   "source": [
    "# 华为0731笔试题第一题\n",
    "最接近某个数的商"
   ]
  },
  {
   "cell_type": "code",
   "execution_count": null,
   "metadata": {},
   "outputs": [],
   "source": [
    "\tdouble num = 3.14159265358979;\n",
    "\tdouble diff=0.5,difference;\n",
    "\tint n, m;\n",
    "\tint flag = 0;\n",
    "\tdouble result;\n",
    "\tint a = floor(num);\n",
    "\tint b = ceil(num);\n",
    "\n",
    "\tfor (int i=0;i <= 10000 && flag==0;i++)\n",
    "\t{\n",
    "\t\tfor (int j = i*a;j <=i*b;j++)\n",
    "\t\t{\n",
    "\t\t\tresult = abs((double)j / i - num);\n",
    "\t\t\tif (result == 0)\n",
    "\t\t\t{\n",
    "\t\t\t\tcout << j << \" \" << i;\n",
    "\t\t\t\tflag = 1;\n",
    "\t\t\t\tbreak;\n",
    "\t\t\t}\n",
    "\t\t\telse if (diff > result)\n",
    "\t\t\t{\n",
    "\t\t\t\tdiff = result;\n",
    "\t\t\t\tm = j;\n",
    "\t\t\t\tn = i;\n",
    "\t\t\t}\n",
    "\t\t}\n",
    "\t}\n",
    "\tif(flag==0)\n",
    "\t\tcout << m << \" \" << n;"
   ]
  },
  {
   "cell_type": "markdown",
   "metadata": {},
   "source": [
    "# 网易笔试第二题"
   ]
  },
  {
   "cell_type": "code",
   "execution_count": null,
   "metadata": {},
   "outputs": [],
   "source": [
    "// 全排序的类\n",
    "class full_order \n",
    "{\n",
    "public:\n",
    "\tvoid permute(vector<int>nums, vector<vector<int>>& ans, int begin, int end) {\n",
    "\t\tif (begin > end) \n",
    "\t\t{\n",
    "\t\t\tif (front_equal(nums, nums.size()))\n",
    "\t\t\t{\n",
    "\t\t\t\tans.push_back(nums);\n",
    "\t\t\t\treturn;\n",
    "\t\t\t}\n",
    "\t\t}\n",
    "\t\telse {\n",
    "\t\t\tfor (int i = begin; i <= end; i++) {\n",
    "\t\t\t\tswap(nums[begin], nums[i]);\n",
    "\t\t\t\tpermute(nums, ans, begin + 1, end);\n",
    "\t\t\t}\n",
    "\t\t}\n",
    "\t}\n",
    "\n",
    "\tvector<vector<int>> permute(vector<int>& nums) \n",
    "\t{\n",
    "\t\tvector<vector<int>> ans;\n",
    "\t\tint len = nums.size() - 1;\n",
    "\t\tpermute(nums, ans, 0, len);\n",
    "\t\treturn ans;\n",
    "\t}\n",
    "\tbool front_equal(vector<int> a, int num)\n",
    "\t{\n",
    "\t\t// 首尾两个数判断\n",
    "\t\tif (a.front() >= a.back() + a[2])\n",
    "\t\t\treturn false;\n",
    "\t\tif (a.back() >= a.front() + a[num - 2])\n",
    "\t\t\treturn false;\n",
    "\n",
    "\t\t// 中间的数判断\n",
    "\t\tfor (int i = 1;i < (num - 1);i++)\n",
    "\t\t{\n",
    "\t\t\tif (a[i] >= a[i - 1] + a[i + 1])\n",
    "\t\t\t\treturn false;\n",
    "\t\t}\n",
    "\t\treturn true;\n",
    "\t}\n",
    "};\n",
    "\n",
    "    // 输入过程\n",
    "\tint num1, num2;\n",
    "\tint j;\n",
    "\tcin >> num1 >> num2;\n",
    "\tif (num2 < 3)\n",
    "\t\treturn 0;\n",
    "\tvector<vector<int>> a(num1, vector<int>(num2, 0));\n",
    "\tvector<vector<int>> b;\n",
    "\tfor (int i = 0;i < num1;i++)\n",
    "\t{\n",
    "\t\tfor (int j = 0;j < num2;j++)\n",
    "\t\t{\n",
    "\t\t\tcin >> a[i][j];\n",
    "\t\t}\n",
    "\t}\n",
    "\t\n",
    "\t// 得出全排序\n",
    "\tfull_order equal_before;\n",
    "\tfor (int i = 0;i < num1;i++)\n",
    "\t{\n",
    "\t\tb = equal_before.permute(a[i]);\n",
    "\t\tif(b.size()!=0)\n",
    "\t\t\tcout << \"YES\" << endl;\n",
    "\t\telse\n",
    "\t\t\tcout << \"NO\" << endl;\n",
    "\t}"
   ]
  },
  {
   "cell_type": "markdown",
   "metadata": {},
   "source": [
    "# 数组（vector）与字符串（string）相互转化"
   ]
  },
  {
   "cell_type": "code",
   "execution_count": null,
   "metadata": {},
   "outputs": [],
   "source": [
    "\tstring s;\n",
    "    int tmp;\n",
    "\tchar ch;\n",
    "    vector<int> b;\n",
    "\tvector<int> a{1,3,7,6};\n",
    "\tfor (int i = 0;i < a.size();i++)\n",
    "\t{\n",
    "\t\tch = a[i]+48;\n",
    "\t\ts += ch;\n",
    "\t}\n",
    "    \n",
    "    for (int i = 0;i < s.size();i++)\n",
    "\t{\n",
    "\t\ttmp = atoi(s.substr(i, 1).c_str());\n",
    "\t\tb.push_back(tmp);\n",
    "\t}"
   ]
  },
  {
   "cell_type": "markdown",
   "metadata": {},
   "source": [
    "# 申请动态空间"
   ]
  },
  {
   "cell_type": "code",
   "execution_count": null,
   "metadata": {},
   "outputs": [],
   "source": [
    "\tint *p=new int;\n",
    "\tdelete p;\n",
    "\tint *p=new int(10);\n",
    "\tdelete p;\n",
    "\tint *p=new int[10]; \n",
    "\tdelete [] p;\n",
    "    p=NULL;"
   ]
  }
 ],
 "metadata": {
  "kernelspec": {
   "display_name": "Python 3",
   "language": "python",
   "name": "python3"
  },
  "language_info": {
   "codemirror_mode": {
    "name": "ipython",
    "version": 3
   },
   "file_extension": ".py",
   "mimetype": "text/x-python",
   "name": "python",
   "nbconvert_exporter": "python",
   "pygments_lexer": "ipython3",
   "version": "3.7.3"
  }
 },
 "nbformat": 4,
 "nbformat_minor": 2
}
