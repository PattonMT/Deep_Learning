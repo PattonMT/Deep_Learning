{
 "cells": [
  {
   "cell_type": "markdown",
   "metadata": {},
   "source": [
    "# 数组-找出数组中重复的数字"
   ]
  },
  {
   "cell_type": "code",
   "execution_count": 1,
   "metadata": {},
   "outputs": [
    {
     "ename": "SyntaxError",
     "evalue": "invalid syntax (<ipython-input-1-b2408cab1c75>, line 1)",
     "output_type": "error",
     "traceback": [
      "\u001b[1;36m  File \u001b[1;32m\"<ipython-input-1-b2408cab1c75>\"\u001b[1;36m, line \u001b[1;32m1\u001b[0m\n\u001b[1;33m    bool duplicate(int numbers[], int length, int* duplication)\u001b[0m\n\u001b[1;37m                 ^\u001b[0m\n\u001b[1;31mSyntaxError\u001b[0m\u001b[1;31m:\u001b[0m invalid syntax\n"
     ]
    }
   ],
   "source": [
    "bool duplicate(int numbers[], int length, int* duplication)\n",
    "{\n",
    "\t// 判断数组不为空\n",
    "\tif (numbers == NULL || length <= 0) { return false; }\n",
    "    \n",
    "\t// 判断数值在制定范围内\n",
    "\tfor (int i = 0;i < length;i++)\n",
    "\t{\n",
    "\t\tif (numbers[i] < 0 || numbers[i]>length - 1)\n",
    "\t\t\treturn false;\n",
    "\t}\n",
    "    \n",
    "\t// 从位置0开始交换\n",
    "\tfor (int i = 0;i < length;i++)\n",
    "\t{\n",
    "\t\twhile (numbers[i] != i)\n",
    "\t\t{\n",
    "\t\t\tif (numbers[i] == numbers[numbers[i]])\n",
    "\t\t\t{\n",
    "\t\t\t\t*duplication = numbers[i];\n",
    "\t\t\t\treturn true;\n",
    "\t\t\t}\n",
    "\t\t\tswap(numbers[i], numbers[numbers[i]]);\n",
    "\t\t}\n",
    "\t}\n",
    "\treturn false;\n",
    "}"
   ]
  },
  {
   "cell_type": "markdown",
   "metadata": {},
   "source": [
    "# 数组-不修改数组找重复数字\n",
    "* 利用二分法进行数组分割"
   ]
  },
  {
   "cell_type": "code",
   "execution_count": null,
   "metadata": {},
   "outputs": [],
   "source": [
    "int countRange(const int* numbers, int length, int start, int end);\n",
    "\n",
    "// 参数:\n",
    "//        numbers:     一个整数数组\n",
    "//        length:      数组的长度\n",
    "// 返回值:             \n",
    "//        正数  - 输入有效，并且数组中存在重复的数字，返回值为重复的数字\n",
    "//        负数  - 输入无效，或者数组中没有重复的数字\n",
    "int getDuplication(const int* numbers, int length)\n",
    "{\n",
    "    if(numbers == nullptr || length <= 0)\n",
    "        return -1;\n",
    "\n",
    "    int start = 1;\n",
    "    int end = length - 1;\n",
    "    while(end >= start)\n",
    "    {\n",
    "        int middle = ((end - start) >> 1) + start;\n",
    "        int count = countRange(numbers, length, start, middle);\n",
    "        if(end == start)\n",
    "        {\n",
    "            if(count > 1)\n",
    "                return start;\n",
    "            else\n",
    "                break;\n",
    "        }\n",
    "\n",
    "        if(count > (middle - start + 1))\n",
    "            end = middle;\n",
    "        else\n",
    "            start = middle + 1;\n",
    "    }\n",
    "    return -1;\n",
    "}\n",
    "\n",
    "int countRange(const int* numbers, int length, int start, int end)\n",
    "{\n",
    "    if(numbers == nullptr)\n",
    "        return 0;\n",
    "\n",
    "    int count = 0;\n",
    "    for(int i = 0; i < length; i++)\n",
    "        if(numbers[i] >= start && numbers[i] <= end)\n",
    "            ++count;\n",
    "    return count;\n",
    "}"
   ]
  },
  {
   "cell_type": "markdown",
   "metadata": {},
   "source": [
    "# 数组-二维数组中的查找\n",
    "* 数组由左到右，由上到下，递增；查找某个数\n",
    "* 以数组的右上角或者左下角为突破口"
   ]
  },
  {
   "cell_type": "code",
   "execution_count": null,
   "metadata": {},
   "outputs": [],
   "source": [
    "bool fintTarget(int* matrix, int target,int row,int column)\n",
    "{\n",
    "    // 判断在数的范围内\n",
    "    if (target<matrix[0][0] || target>matrix[row][column]) return false;\n",
    "\tint row_a = 0, column_a = column - 1;\n",
    "\t\n",
    "    // 比右上角的数大，则到下一行，否则换到前一列\n",
    "    while (row_a < row && column >= 0)\n",
    "\t{\n",
    "\t\tif (matrix[row_a][column_a] == target) return true;\n",
    "\t\telse if (matrix[row_a][column_a] > target) column_a--;\n",
    "\t\telse row_a++;\n",
    "\t}\n",
    "\treturn false;\n",
    "}"
   ]
  },
  {
   "cell_type": "markdown",
   "metadata": {},
   "source": [
    "# 字符串-替换空格\n",
    "* 双指针，一个指向末尾，一个指向拓展后的末尾"
   ]
  },
  {
   "cell_type": "code",
   "execution_count": null,
   "metadata": {},
   "outputs": [],
   "source": [
    "\tvoid replaceSpace(char *str,int length) \n",
    "    {\n",
    "        //判断数据不为空\n",
    "        if(str == NULL||length<=0)  return;\n",
    "        //拓展数据长度\n",
    "        int true_length=0,count_blank=0;\n",
    "        int i=0;\n",
    "        while(str[i]!='\\0')\n",
    "        {\n",
    "            true_length++;\n",
    "            if(str[i]==' ')\n",
    "                count_blank++;\n",
    "            i++;\n",
    "        }\n",
    "        //计算拓展后的字符串长度，判断是否在length范围内\n",
    "        int new_length=true_length+2*count_blank;\n",
    "        if(new_length>length) return;\n",
    "        \n",
    "        //后移，替换\n",
    "        int a_pointer=true_length;\n",
    "        int b_pointer=new_length;\n",
    "        \n",
    "        while(a_pointer>=0 && a_pointer<b_pointer)\n",
    "        {\n",
    "            if(str[a_pointer]!=' ')\n",
    "            {\n",
    "                str[b_pointer]=str[a_pointer];\n",
    "                a_pointer--;\n",
    "                b_pointer--;\n",
    "            }\n",
    "            else\n",
    "            {\n",
    "                a_pointer--;\n",
    "                str[b_pointer--]='0';\n",
    "                str[b_pointer--]='2';\n",
    "                str[b_pointer--]='%';\n",
    "            }\n",
    "        }\n",
    "\t}\n",
    "};"
   ]
  }
 ],
 "metadata": {
  "kernelspec": {
   "display_name": "Python 3",
   "language": "python",
   "name": "python3"
  },
  "language_info": {
   "codemirror_mode": {
    "name": "ipython",
    "version": 3
   },
   "file_extension": ".py",
   "mimetype": "text/x-python",
   "name": "python",
   "nbconvert_exporter": "python",
   "pygments_lexer": "ipython3",
   "version": "3.7.3"
  }
 },
 "nbformat": 4,
 "nbformat_minor": 2
}
