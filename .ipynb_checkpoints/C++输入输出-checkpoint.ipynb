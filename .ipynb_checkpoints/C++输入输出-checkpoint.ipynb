{
 "cells": [
  {
   "cell_type": "markdown",
   "metadata": {},
   "source": [
    "# 输入连续数进入vector"
   ]
  },
  {
   "cell_type": "code",
   "execution_count": null,
   "metadata": {},
   "outputs": [],
   "source": [
    "\tvector<int> a;\n",
    "\tint num,i=0;\n",
    "\tint temple;\n",
    "    \n",
    "\tcin >> num;\n",
    "\twhile (i<num)\n",
    "\t{\n",
    "\t\tcin >> temple;\n",
    "\t\ta.push_back(temple);\n",
    "\t\ti++;\n",
    "\t}"
   ]
  },
  {
   "cell_type": "markdown",
   "metadata": {},
   "source": [
    "# 迭代器输出vector"
   ]
  },
  {
   "cell_type": "code",
   "execution_count": null,
   "metadata": {},
   "outputs": [],
   "source": [
    "\tfor (vector<int>::iterator it = a.begin();it != a.end();++it)\n",
    "\t\tcout<< *it<< ' ';\n",
    "    cout << endl;"
   ]
  },
  {
   "cell_type": "markdown",
   "metadata": {},
   "source": [
    "# 输出二维vector"
   ]
  },
  {
   "cell_type": "code",
   "execution_count": null,
   "metadata": {},
   "outputs": [],
   "source": [
    "\tfor (int i = 0;i < res.size();i++)\n",
    "\t{\n",
    "\t\tfor (int j = 0;j < res[i].size();j++)\n",
    "\t\t\tcout << res[i][j] << \" \";\n",
    "\t\tcout << endl;\n",
    "\t}\n",
    "\tcout << endl;"
   ]
  }
 ],
 "metadata": {
  "kernelspec": {
   "display_name": "Python 3",
   "language": "python",
   "name": "python3"
  },
  "language_info": {
   "codemirror_mode": {
    "name": "ipython",
    "version": 3
   },
   "file_extension": ".py",
   "mimetype": "text/x-python",
   "name": "python",
   "nbconvert_exporter": "python",
   "pygments_lexer": "ipython3",
   "version": "3.7.3"
  }
 },
 "nbformat": 4,
 "nbformat_minor": 2
}
